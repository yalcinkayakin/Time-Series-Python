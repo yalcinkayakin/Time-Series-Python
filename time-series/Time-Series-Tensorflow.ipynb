{
 "cells": [
  {
   "cell_type": "code",
   "execution_count": 1,
   "metadata": {},
   "outputs": [
    {
     "data": {
      "text/plain": [
       "'2.7.14 |Anaconda custom (64-bit)| (default, Oct 16 2017, 17:29:19) \\n[GCC 7.2.0]'"
      ]
     },
     "execution_count": 1,
     "metadata": {},
     "output_type": "execute_result"
    }
   ],
   "source": [
    "import sys\n",
    "sys.version "
   ]
  },
  {
   "cell_type": "code",
   "execution_count": 2,
   "metadata": {
    "collapsed": true
   },
   "outputs": [],
   "source": [
    "import tensorflow as tf\n",
    "import pandas as pd\n",
    "import numpy as np\n",
    "import os\n",
    "import matplotlib.pyplot as plt\n",
    "import random\n",
    "%matplotlib inline\n",
    "import tensorflow as tf\n",
    "import shutil\n",
    "import tensorflow.contrib.learn as tflearn\n",
    "import tensorflow.contrib.layers as tflayers\n",
    "from tensorflow.contrib.learn.python.learn import learn_runner\n",
    "import tensorflow.contrib.metrics as metrics\n",
    "import tensorflow.contrib.rnn as rnn"
   ]
  },
  {
   "cell_type": "code",
   "execution_count": 9,
   "metadata": {},
   "outputs": [
    {
     "data": {
      "image/png": "[encoded data removed]",
      "text/plain": [
       "<matplotlib.figure.Figure at 0x7fd5f105d2d0>"
      ]
     },
     "metadata": {},
     "output_type": "display_data"
    },
    {
     "data": {
      "text/plain": [
       "2000-01-31    -8.538682\n",
       "2000-02-29    -6.290528\n",
       "2000-03-31   -13.340956\n",
       "2000-04-30   -18.079908\n",
       "2000-05-31   -17.562679\n",
       "2000-06-30   -11.939755\n",
       "2000-07-31   -18.453244\n",
       "2000-08-31   -24.876622\n",
       "2000-09-30   -33.369224\n",
       "2000-10-31   -32.265476\n",
       "Freq: M, dtype: float64"
      ]
     },
     "execution_count": 9,
     "metadata": {},
     "output_type": "execute_result"
    }
   ],
   "source": [
    "random.seed(11)\n",
    "rng=pd.date_range(start='2000',periods=209,freq='M')\n",
    "ts=pd.Series(np.random.uniform(-10,10,size=len(rng)),rng).cumsum()\n",
    "ts.plot(c='b',title='Time Series')\n",
    "plt.show()\n",
    "ts.head(10)"
   ]
  },
  {
   "cell_type": "code",
   "execution_count": 14,
   "metadata": {},
   "outputs": [
    {
     "name": "stdout",
     "output_type": "stream",
     "text": [
      "10\n",
      "(10, 20, 1)\n",
      "[[[ -8.53868173]\n",
      "  [ -6.2905278 ]\n",
      "  [-13.34095618]\n",
      "  [-18.07990846]\n",
      "  [-17.56267862]\n",
      "  [-11.93975496]\n",
      "  [-18.45324395]\n",
      "  [-24.87662246]\n",
      "  [-33.36922391]\n",
      "  [-32.26547558]\n",
      "  [-30.65334455]\n",
      "  [-29.73750697]\n",
      "  [-30.69694321]\n",
      "  [-26.70063514]\n",
      "  [-20.21427116]\n",
      "  [-26.39923118]\n",
      "  [-35.42405433]\n",
      "  [-29.58041508]\n",
      "  [-32.42534992]\n",
      "  [-40.35899584]]\n",
      "\n",
      " [[-34.46128523]\n",
      "  [-28.48290126]\n",
      "  [-23.85122224]\n",
      "  [-18.3889666 ]\n",
      "  [-19.4290627 ]\n",
      "  [-12.91720555]\n",
      "  [-11.93002826]\n",
      "  [ -4.21801538]\n",
      "  [ -0.78275321]\n",
      "  [  6.88092949]\n",
      "  [  0.46963444]\n",
      "  [ -1.12992455]\n",
      "  [-10.65428091]\n",
      "  [-15.963316  ]\n",
      "  [-14.52585465]\n",
      "  [-14.84969779]\n",
      "  [ -5.03582224]\n",
      "  [ -0.46433692]\n",
      "  [  5.24124373]\n",
      "  [  9.97748594]]]\n",
      "[[[ -8.53868173]\n",
      "  [ -6.2905278 ]\n",
      "  [-13.34095618]\n",
      "  [-18.07990846]\n",
      "  [-17.56267862]\n",
      "  [-11.93975496]\n",
      "  [-18.45324395]\n",
      "  [-24.87662246]\n",
      "  [-33.36922391]\n",
      "  [-32.26547558]\n",
      "  [-30.65334455]\n",
      "  [-29.73750697]\n",
      "  [-30.69694321]\n",
      "  [-26.70063514]\n",
      "  [-20.21427116]\n",
      "  [-26.39923118]\n",
      "  [-35.42405433]\n",
      "  [-29.58041508]\n",
      "  [-32.42534992]\n",
      "  [-40.35899584]]]\n",
      "(10, 20, 1)\n"
     ]
    }
   ],
   "source": [
    "TS=np.array(ts)\n",
    "num_periods=20\n",
    "f_horizon=1\n",
    "\n",
    "x_data=TS[:(len(TS)-(len(TS)% num_periods))]\n",
    "x_batches=x_data.reshape(-1,20,1)\n",
    "\n",
    "y_data=TS[:(len(TS)-(len(TS)% num_periods))+f_horizon]\n",
    "y_batches=x_data.reshape(-1,20,1)\n",
    "\n",
    "\n",
    "print(len(x_batches))\n",
    "print(x_batches.shape)\n",
    "print(x_batches[0:2])\n",
    "\n",
    "print(y_batches[0:1])\n",
    "print(y_batches.shape)\n"
   ]
  },
  {
   "cell_type": "code",
   "execution_count": 16,
   "metadata": {},
   "outputs": [
    {
     "name": "stdout",
     "output_type": "stream",
     "text": [
      "(1, 20, 1)\n",
      "[[[ 19.61885151]\n",
      "  [ 26.92704368]\n",
      "  [ 35.67678508]\n",
      "  [ 32.27036789]\n",
      "  [ 27.86451411]\n",
      "  [ 33.01849804]\n",
      "  [ 34.03108161]\n",
      "  [ 27.94730687]\n",
      "  [ 33.58855658]\n",
      "  [ 31.86036959]\n",
      "  [ 28.90581794]\n",
      "  [ 26.82080703]\n",
      "  [ 19.91819459]\n",
      "  [ 21.29355124]\n",
      "  [ 23.43169686]\n",
      "  [ 24.84974393]\n",
      "  [ 17.92958968]\n",
      "  [  9.79505519]\n",
      "  [  8.62036727]\n",
      "  [  5.12128956]]]\n"
     ]
    }
   ],
   "source": [
    "def test_data(series,forecast,num_periods):\n",
    "    test_x_setup=TS[-(num_periods+forecast):]\n",
    "    testX=test_x_setup[:num_periods].reshape(-1,20,1)\n",
    "    testY=TS[-(num_periods):].reshape(-1,20,1)\n",
    "    return testX,testY\n",
    "\n",
    "X_test,Y_test=test_data(TS,f_horizon,num_periods)\n",
    "print(X_test.shape)\n",
    "print(X_test)\n"
   ]
  },
  {
   "cell_type": "code",
   "execution_count": 17,
   "metadata": {
    "collapsed": true
   },
   "outputs": [],
   "source": [
    "tf.reset_default_graph()\n",
    "\n",
    "num_periods=20\n",
    "inputs=1\n",
    "hidden=100\n",
    "output=1\n",
    "\n",
    "X=tf.placeholder(tf.float32,[None,num_periods,inputs])\n",
    "y=tf.placeholder(tf.float32,[None,num_periods,output])\n",
    "\n",
    "basic_cell=tf.contrib.rnn.BasicRNNCell(num_units=hidden,activation=tf.nn.relu)\n",
    "rnn_output,states=tf.nn.dynamic_rnn(basic_cell,X,dtype=tf.float32)\n",
    "\n",
    "learning_rate=0.001\n",
    "\n",
    "stacked_rnn_output=tf.reshape(rnn_output,[-1,hidden])\n",
    "stacked_outputs=tf.layers.dense(stacked_rnn_output,output)\n",
    "output=tf.reshape(stacked_outputs,[-1,num_periods,output])\n",
    "\n",
    "loss=tf.reduce_sum(tf.square(output-y))\n",
    "optimizer=tf.train.AdamOptimizer(learning_rate=learning_rate)\n",
    "training_op=optimizer.minimize(loss)\n",
    "\n",
    "init=tf.global_variables_initializer()"
   ]
  },
  {
   "cell_type": "code",
   "execution_count": 22,
   "metadata": {},
   "outputs": [
    {
     "name": "stdout",
     "output_type": "stream",
     "text": [
      "(0, 'tMSE:', 318436.62)\n",
      "(100, 'tMSE:', 7232.0898)\n",
      "(200, 'tMSE:', 3222.97)\n",
      "(300, 'tMSE:', 959.58221)\n",
      "(400, 'tMSE:', 220.54887)\n",
      "(500, 'tMSE:', 57.029701)\n",
      "(600, 'tMSE:', 15.283213)\n",
      "(700, 'tMSE:', 9.1660423)\n",
      "(800, 'tMSE:', 5.3009539)\n",
      "(900, 'tMSE:', 4.1996484)\n",
      "[[[ 20.05586815]\n",
      "  [ 27.18766022]\n",
      "  [ 35.7847023 ]\n",
      "  [ 31.80798531]\n",
      "  [ 27.41452789]\n",
      "  [ 33.28255081]\n",
      "  [ 34.15419006]\n",
      "  [ 27.67232895]\n",
      "  [ 33.7325325 ]\n",
      "  [ 31.64939499]\n",
      "  [ 29.00442123]\n",
      "  [ 26.74398041]\n",
      "  [ 19.9406395 ]\n",
      "  [ 21.20890999]\n",
      "  [ 23.39597511]\n",
      "  [ 24.75804901]\n",
      "  [ 17.97585297]\n",
      "  [  9.72507954]\n",
      "  [  8.64535522]\n",
      "  [  5.05455446]]]\n"
     ]
    }
   ],
   "source": [
    "epochs=1000\n",
    "\n",
    "with tf.Session() as sess:\n",
    "    init.run()\n",
    "    for ep in range(epochs):\n",
    "        sess.run(training_op,feed_dict={X:x_batches,y:y_batches})\n",
    "        \n",
    "        if ep % 100 == 0:\n",
    "            mse=loss.eval(feed_dict={X:x_batches,y:y_batches})\n",
    "            print(ep,\"tMSE:\",mse)\n",
    "            \n",
    "    y_pred=sess.run(output,feed_dict={X:X_test})\n",
    "    print(y_pred)"
   ]
  },
  {
   "cell_type": "code",
   "execution_count": null,
   "metadata": {
    "collapsed": true
   },
   "outputs": [],
   "source": [
    "plt.title(\"Foracast vs Actual\",fontsize=14)\n",
    "plt.plt(pd.Series(np.ravel(Y_test)),\"bo\",markersize=10,label=\"Actual\")\n",
    "\n",
    "plt.plot(pd.Series(np.ravel(y_pred)),\"r\",markersize=10label=\"Forecast\")\n",
    "plt.legend(loc='upper left')\n",
    "plt.x"
   ]
  }
 ],
 "metadata": {
  "kernelspec": {
   "display_name": "Python 2",
   "language": "python",
   "name": "python2"
  },
  "language_info": {
   "codemirror_mode": {
    "name": "ipython",
    "version": 2
   },
   "file_extension": ".py",
   "mimetype": "text/x-python",
   "name": "python",
   "nbconvert_exporter": "python",
   "pygments_lexer": "ipython2",
   "version": "2.7.14"
  }
 },
 "nbformat": 4,
 "nbformat_minor": 2
}
